{
  "nbformat": 4,
  "nbformat_minor": 0,
  "metadata": {
    "colab": {
      "name": "ML_Lab1",
      "provenance": [],
      "collapsed_sections": [],
      "include_colab_link": true
    },
    "kernelspec": {
      "name": "python3",
      "display_name": "Python 3"
    }
  },
  "cells": [
    {
      "cell_type": "markdown",
      "metadata": {
        "id": "view-in-github",
        "colab_type": "text"
      },
      "source": [
        "<a href=\"https://colab.research.google.com/github/LokeshDaga/ML_Assignment/blob/master/ML_Lab1.ipynb\" target=\"_parent\"><img src=\"https://colab.research.google.com/assets/colab-badge.svg\" alt=\"Open In Colab\"/></a>"
      ]
    },
    {
      "cell_type": "code",
      "metadata": {
        "id": "d8to-OIlwDpV",
        "colab_type": "code",
        "colab": {
          "base_uri": "https://localhost:8080/",
          "height": 139
        },
        "outputId": "1a3dbdf9-9333-47c8-84c9-33f83fd4b150"
      },
      "source": [
        "#Part1-1\n",
        "\n",
        "import numpy as np\n",
        "array0=np.zeros(10)\n",
        "print(array0)\n",
        "print(\"\\n\")\n",
        "\n",
        "array1=np.ones(10)\n",
        "print(array1)\n",
        "print(\"\\n\")\n",
        "\n",
        "array5=np.ones(10)*5\n",
        "print(array5)\n",
        "\n",
        "\n",
        "\n"
      ],
      "execution_count": null,
      "outputs": [
        {
          "output_type": "stream",
          "text": [
            "[0. 0. 0. 0. 0. 0. 0. 0. 0. 0.]\n",
            "\n",
            "\n",
            "[1. 1. 1. 1. 1. 1. 1. 1. 1. 1.]\n",
            "\n",
            "\n",
            "[5. 5. 5. 5. 5. 5. 5. 5. 5. 5.]\n"
          ],
          "name": "stdout"
        }
      ]
    },
    {
      "cell_type": "code",
      "metadata": {
        "id": "RAwwGMdVyXY5",
        "colab_type": "code",
        "colab": {
          "base_uri": "https://localhost:8080/",
          "height": 35
        },
        "outputId": "3ce58a55-c963-40b3-fb8c-aa97f5c2efc0"
      },
      "source": [
        "#Part1-2\n",
        "\n",
        "array = np.arange(10,51,2)\n",
        "print(array)"
      ],
      "execution_count": null,
      "outputs": [
        {
          "output_type": "stream",
          "text": [
            "[10 12 14 16 18 20 22 24 26 28 30 32 34 36 38 40 42 44 46 48 50]\n"
          ],
          "name": "stdout"
        }
      ]
    },
    {
      "cell_type": "code",
      "metadata": {
        "id": "Y5GRAvc40ccd",
        "colab_type": "code",
        "colab": {
          "base_uri": "https://localhost:8080/",
          "height": 87
        },
        "outputId": "fee6fe0d-bd4b-43ce-dc5a-4db777844875"
      },
      "source": [
        "#Part1-3\n",
        "\n",
        "rarray = np.random.rand(3,2) \n",
        "print(\"Second array\\n\", rarray)\n",
        "\n"
      ],
      "execution_count": null,
      "outputs": [
        {
          "output_type": "stream",
          "text": [
            "Second array\n",
            " [[0.29289111 0.54369618]\n",
            " [0.83926655 0.97751066]\n",
            " [0.34473536 0.01582053]]\n"
          ],
          "name": "stdout"
        }
      ]
    },
    {
      "cell_type": "code",
      "metadata": {
        "id": "2FuPsQQz33l7",
        "colab_type": "code",
        "colab": {
          "base_uri": "https://localhost:8080/",
          "height": 35
        },
        "outputId": "da4d0d51-ac4f-4c79-e83d-60fcfb4b376d"
      },
      "source": [
        "#Mounting google drive to save future files\n",
        "from google.colab import drive\n",
        "drive.mount('/drive')\n",
        "\n"
      ],
      "execution_count": null,
      "outputs": [
        {
          "output_type": "stream",
          "text": [
            "Drive already mounted at /drive; to attempt to forcibly remount, call drive.mount(\"/drive\", force_remount=True).\n"
          ],
          "name": "stdout"
        }
      ]
    },
    {
      "cell_type": "code",
      "metadata": {
        "id": "Kfcwg-sd5srm",
        "colab_type": "code",
        "colab": {
          "base_uri": "https://localhost:8080/",
          "height": 87
        },
        "outputId": "edf6885a-1da9-41de-e57d-a64b1b097b6d"
      },
      "source": [
        "#Part1-4\n",
        "\n",
        "\n",
        "\n",
        "np.savetxt('/drive/My Drive/Colab Notebooks/lab1/part1-3.txt', rarray, fmt=\"%0.8f\") \n",
        "print(\"After loading, content of the text file:\")\n",
        "\n",
        "result = np.loadtxt('/drive/My Drive/Colab Notebooks/lab1/part1-3.txt')\n",
        "print(result)\n",
        "\n",
        "\n"
      ],
      "execution_count": null,
      "outputs": [
        {
          "output_type": "stream",
          "text": [
            "After loading, content of the text file:\n",
            "[[0.29289111 0.54369618]\n",
            " [0.83926655 0.97751066]\n",
            " [0.34473536 0.01582053]]\n"
          ],
          "name": "stdout"
        }
      ]
    },
    {
      "cell_type": "code",
      "metadata": {
        "id": "B_iBeMGz8k9j",
        "colab_type": "code",
        "colab": {}
      },
      "source": [
        "#Part2-1\n",
        "\n",
        "from PIL import Image\n",
        "import numpy as np\n",
        "import pandas as pd\n",
        "\n",
        "imframe = Image.open('/drive/My Drive/Colab Notebooks/lab1/image.png')\n",
        "npframe = np.array(imframe.getdata())\n",
        "df = pd.DataFrame(npframe)\n",
        "df\n",
        "df.to_csv(\"/drive/My Drive/Colab Notebooks/lab1/image.csv\")\n",
        "\n",
        "\n",
        "\n",
        "\n",
        "\n"
      ],
      "execution_count": null,
      "outputs": []
    },
    {
      "cell_type": "code",
      "metadata": {
        "id": "IzaASALR_Ppd",
        "colab_type": "code",
        "colab": {
          "base_uri": "https://localhost:8080/",
          "height": 537
        },
        "outputId": "6d0277fc-454c-4a75-8db5-876f06be70a8"
      },
      "source": [
        "#part2-2\n",
        "\n",
        "df = pd.read_csv (\"/drive/My Drive/Colab Notebooks/lab1/image.csv\")\n",
        "#df with all rows and column\n",
        "print(df)\n",
        "print(\"\\n\")\n",
        "\n",
        "\n",
        "\n",
        "df.drop(df.tail(1).index,inplace=True)\n",
        "df.drop(df.columns[len(df.columns)-1], axis=1, inplace=True)\n",
        "\n",
        "print(df)\n",
        "\n"
      ],
      "execution_count": null,
      "outputs": [
        {
          "output_type": "stream",
          "text": [
            "        Unnamed: 0    0    1    2\n",
            "0                0  252  253  255\n",
            "1                1  252  253  255\n",
            "2                2  252  253  255\n",
            "3                3  252  253  255\n",
            "4                4  252  253  255\n",
            "...            ...  ...  ...  ...\n",
            "249995      249995  254  255  255\n",
            "249996      249996  254  255  255\n",
            "249997      249997  254  255  255\n",
            "249998      249998  254  255  255\n",
            "249999      249999  254  255  255\n",
            "\n",
            "[250000 rows x 4 columns]\n",
            "\n",
            "\n",
            "        Unnamed: 0    0    1\n",
            "0                0  252  253\n",
            "1                1  252  253\n",
            "2                2  252  253\n",
            "3                3  252  253\n",
            "4                4  252  253\n",
            "...            ...  ...  ...\n",
            "249994      249994  254  255\n",
            "249995      249995  254  255\n",
            "249996      249996  254  255\n",
            "249997      249997  254  255\n",
            "249998      249998  254  255\n",
            "\n",
            "[249999 rows x 3 columns]\n"
          ],
          "name": "stdout"
        }
      ]
    },
    {
      "cell_type": "code",
      "metadata": {
        "id": "wjX9fktD_RtV",
        "colab_type": "code",
        "colab": {
          "base_uri": "https://localhost:8080/",
          "height": 52
        },
        "outputId": "98c912e3-21d4-4971-b7cd-f0ebc048c718"
      },
      "source": [
        "#part2-3\n",
        "import pandas as pd\n",
        "from datetime import date\n",
        "now = pd.to_datetime(str(date.today()), format='%Y-%m-%d')\n",
        "print(\"Today's date:\")\n",
        "print(now)"
      ],
      "execution_count": null,
      "outputs": [
        {
          "output_type": "stream",
          "text": [
            "Today's date:\n",
            "2020-08-23 00:00:00\n"
          ],
          "name": "stdout"
        }
      ]
    },
    {
      "cell_type": "code",
      "metadata": {
        "id": "KRpiK1yv_aGd",
        "colab_type": "code",
        "colab": {
          "base_uri": "https://localhost:8080/",
          "height": 35
        },
        "outputId": "96eb755c-8374-4370-c4a0-8fc19dc11d4f"
      },
      "source": [
        "#part3\n",
        "\n",
        "from datetime import date \n",
        "\n",
        "def calculateAge(born): \n",
        "\ttoday = date.today() \n",
        "\ttry: \n",
        "\t\tbirthday = born.replace(year = today.year) \n",
        "\n",
        "\n",
        "\texcept ValueError: \n",
        "\t\tbirthday = born.replace(year = today.year, \n",
        "\t\t\t\tmonth = born.month + 1, day = 1) \n",
        "\n",
        "\tif birthday > today: \n",
        "\t\treturn today.year - born.year - 1\n",
        "\telse: \n",
        "\t\treturn today.year - born.year \n",
        "\t\t\n",
        "\n",
        "print(calculateAge(date(1997, 2, 3)), \"years\") \n"
      ],
      "execution_count": null,
      "outputs": [
        {
          "output_type": "stream",
          "text": [
            "23 years\n"
          ],
          "name": "stdout"
        }
      ]
    }
  ]
}