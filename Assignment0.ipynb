{
  "nbformat": 4,
  "nbformat_minor": 0,
  "metadata": {
    "colab": {
      "name": "Assignment0.ipynb",
      "provenance": [],
      "collapsed_sections": [],
      "authorship_tag": "ABX9TyMW37TlANup5Tqmmyso/S4X",
      "include_colab_link": true
    },
    "kernelspec": {
      "name": "python3",
      "display_name": "Python 3"
    }
  },
  "cells": [
    {
      "cell_type": "markdown",
      "metadata": {
        "id": "view-in-github",
        "colab_type": "text"
      },
      "source": [
        "<a href=\"https://colab.research.google.com/github/LokeshDaga/ML_Assignment/blob/master/Assignment0.ipynb\" target=\"_parent\"><img src=\"https://colab.research.google.com/assets/colab-badge.svg\" alt=\"Open In Colab\"/></a>"
      ]
    },
    {
      "cell_type": "code",
      "metadata": {
        "id": "uzR9nDyWd2GV",
        "colab_type": "code",
        "colab": {
          "base_uri": "https://localhost:8080/",
          "height": 51
        },
        "outputId": "eb4f30e6-8d2f-4087-9519-8139606f8746"
      },
      "source": [
        "import sys\n",
        "print(sys.version);"
      ],
      "execution_count": null,
      "outputs": [
        {
          "output_type": "stream",
          "text": [
            "3.6.9 (default, Jul 17 2020, 12:50:27) \n",
            "[GCC 8.4.0]\n"
          ],
          "name": "stdout"
        }
      ]
    },
    {
      "cell_type": "code",
      "metadata": {
        "id": "4WhS-iykeabN",
        "colab_type": "code",
        "colab": {
          "base_uri": "https://localhost:8080/",
          "height": 170
        },
        "outputId": "9e8713f9-50dd-496e-cc7b-99e0ddbc3bd9"
      },
      "source": [
        "import sys\n",
        "for p in sys.path:\n",
        "   print(p)"
      ],
      "execution_count": null,
      "outputs": [
        {
          "output_type": "stream",
          "text": [
            "\n",
            "/env/python\n",
            "/usr/lib/python36.zip\n",
            "/usr/lib/python3.6\n",
            "/usr/lib/python3.6/lib-dynload\n",
            "/usr/local/lib/python3.6/dist-packages\n",
            "/usr/lib/python3/dist-packages\n",
            "/usr/local/lib/python3.6/dist-packages/IPython/extensions\n",
            "/root/.ipython\n"
          ],
          "name": "stdout"
        }
      ]
    },
    {
      "cell_type": "code",
      "metadata": {
        "id": "nFV5QH4SfK9L",
        "colab_type": "code",
        "colab": {
          "base_uri": "https://localhost:8080/",
          "height": 51
        },
        "outputId": "5e41fc52-f416-4904-da6e-a9b7ab1ee590"
      },
      "source": [
        "import inspect, os\n",
        "print(inspect.getfile(inspect.currentframe()))\n",
        "print(os.path.dirname(os.path.abspath(inspect.getfile(inspect.currentframe()))))\n"
      ],
      "execution_count": null,
      "outputs": [
        {
          "output_type": "stream",
          "text": [
            "<ipython-input-21-999536cf70d4>\n",
            "/content\n"
          ],
          "name": "stdout"
        }
      ]
    },
    {
      "cell_type": "code",
      "metadata": {
        "id": "PohNpusGk2Fq",
        "colab_type": "code",
        "colab": {
          "base_uri": "https://localhost:8080/",
          "height": 136
        },
        "outputId": "b1b64696-5a4b-42bb-f490-67f0498071c4"
      },
      "source": [
        "import numpy as np\n",
        "A=np.random.randint(100000, size=(2, 3))\n",
        "B= np.random.randint(10000, size=(3, 2))\n",
        "print(A)\n",
        "print(B)\n",
        "C=A.dot(B)\n",
        "print(C)"
      ],
      "execution_count": null,
      "outputs": [
        {
          "output_type": "stream",
          "text": [
            "[[8 1 9]\n",
            " [8 7 2]]\n",
            "[[6 1]\n",
            " [0 0]\n",
            " [5 9]]\n",
            "[[93 89]\n",
            " [58 26]]\n"
          ],
          "name": "stdout"
        }
      ]
    },
    {
      "cell_type": "code",
      "metadata": {
        "id": "Vp9wtIIAns8K",
        "colab_type": "code",
        "colab": {
          "base_uri": "https://localhost:8080/",
          "height": 51
        },
        "outputId": "989a72a6-b1fc-48fd-9c1d-33288926520c"
      },
      "source": [
        "import numpy as np\n",
        "C=0\n",
        "for i in range(0,5):\n",
        " A=np.random.randint(1000, size=(2, 3))\n",
        " B= np.random.randint(1000, size=(3, 2))\n",
        " C=C+A.dot(B)\n",
        " \n",
        "print(C/5)"
      ],
      "execution_count": null,
      "outputs": [
        {
          "output_type": "stream",
          "text": [
            "[[1117516.4  772925.4]\n",
            " [1110159.4  785784.8]]\n"
          ],
          "name": "stdout"
        }
      ]
    },
    {
      "cell_type": "code",
      "metadata": {
        "id": "SajacOnnr5RS",
        "colab_type": "code",
        "colab": {
          "base_uri": "https://localhost:8080/",
          "height": 51
        },
        "outputId": "e9370b18-0863-4147-c344-49dd567ac844"
      },
      "source": [
        "#import pandas as pd\n",
        "np.savetxt('test.csv',C/5,delimiter=',')\n",
        "#C=pd.read_csv('test.csv', sep=',',header=None)\n",
        "C= np.genfromtxt('test.csv', delimiter=',')\n",
        "print(C.transpose())"
      ],
      "execution_count": null,
      "outputs": [
        {
          "output_type": "stream",
          "text": [
            "[[2.54279578 2.05304115]\n",
            " [2.15424154 1.88386304]]\n"
          ],
          "name": "stdout"
        }
      ]
    },
    {
      "cell_type": "code",
      "metadata": {
        "id": "VetVD_GymxNy",
        "colab_type": "code",
        "colab": {
          "base_uri": "https://localhost:8080/",
          "height": 102
        },
        "outputId": "12972681-4843-4e73-bfed-4f3e92b6dc64"
      },
      "source": [
        "from scipy import stats\n",
        "C=C/5\n",
        "print(C)\n",
        "mean = np.mean(C)\n",
        "median = np.median(C)\n",
        "mode=stats.mode(C)\n",
        "print('Mean is ',mean)\n",
        "print('Median is ',median)\n",
        "print('Mode is ',mode[0])"
      ],
      "execution_count": null,
      "outputs": [
        {
          "output_type": "stream",
          "text": [
            "[[0.10171183 0.08616966]\n",
            " [0.08212165 0.07535452]]\n",
            "Mean is  0.08633941503999999\n",
            "Median is  0.08414565376\n",
            "Mode is  ModeResult(mode=array([[0.08212165, 0.07535452]]), count=array([[1, 1]]))\n"
          ],
          "name": "stdout"
        }
      ]
    },
    {
      "cell_type": "code",
      "metadata": {
        "id": "gjfiiLiUzK-U",
        "colab_type": "code",
        "colab": {
          "base_uri": "https://localhost:8080/",
          "height": 51
        },
        "outputId": "94888fbf-c864-4718-b8cc-cb9d01abbfce"
      },
      "source": [
        "\n",
        "S=np.triu(C)\n",
        "print(S)"
      ],
      "execution_count": null,
      "outputs": [
        {
          "output_type": "stream",
          "text": [
            "[[2.54279578 2.15424154]\n",
            " [0.         1.88386304]]\n"
          ],
          "name": "stdout"
        }
      ]
    },
    {
      "cell_type": "code",
      "metadata": {
        "id": "OXq4kmEI3gUl",
        "colab_type": "code",
        "colab": {
          "base_uri": "https://localhost:8080/",
          "height": 102
        },
        "outputId": "1fef428d-cdd0-4aad-9606-8b11e1fad1b3"
      },
      "source": [
        "import csv \n",
        "n=input(\"Enter the number of coloumns:\")\n",
        "a=[]\n",
        "for i in range(0,int(n)):\n",
        " a.append(int(input(\"Enter Coloumn number:\")))\n",
        "with open(\"test.csv\", \"r\") as csv_file:\n",
        "    csv_reader = csv.reader(csv_file, delimiter=',')\n",
        "    for lines in csv_reader:\n",
        "      print(lines)\n"
      ],
      "execution_count": null,
      "outputs": [
        {
          "output_type": "stream",
          "text": [
            "Enter the number of coloumns:2\n",
            "Enter Coloumn number:0\n",
            "Enter Coloumn number:1\n",
            "['2.542795775999999730e+00', '2.154241535999999790e+00']\n",
            "['2.053041152000000036e+00', '1.883863040000000266e+00']\n"
          ],
          "name": "stdout"
        }
      ]
    },
    {
      "cell_type": "code",
      "metadata": {
        "id": "Ua2v6vJJB6Ed",
        "colab_type": "code",
        "colab": {}
      },
      "source": [
        "A=[[1,2,3],[4,5,6]]\n",
        "np.savetxt('nba.csv',A,delimiter=',')"
      ],
      "execution_count": null,
      "outputs": []
    },
    {
      "cell_type": "code",
      "metadata": {
        "id": "cK-Ze4nn-FaP",
        "colab_type": "code",
        "colab": {
          "base_uri": "https://localhost:8080/",
          "height": 68
        },
        "outputId": "07fad6c4-a978-48f7-ae25-288862b0bd7c"
      },
      "source": [
        "import pandas as pd  \n",
        "s=input(\"Enter the number\")\n",
        "df = pd.read_csv(\"nba.csv\")\n",
        "df.replace(to_replace =int(s), \n",
        "                 value =\"A\")\n",
        "print(df[0:])\n",
        "np.savetxt('nba.csv',df,delimiter=',')\n",
        "\n",
        "\n"
      ],
      "execution_count": null,
      "outputs": [
        {
          "output_type": "stream",
          "text": [
            "Enter the number2\n",
            "   1.000000000000000000e+00  2.000000000000000000e+00  3.000000000000000000e+00\n",
            "0                       4.0                       5.0                       6.0\n"
          ],
          "name": "stdout"
        }
      ]
    },
    {
      "cell_type": "code",
      "metadata": {
        "id": "KSuOwTNgFLT1",
        "colab_type": "code",
        "colab": {}
      },
      "source": [
        ""
      ],
      "execution_count": null,
      "outputs": []
    }
  ]
}